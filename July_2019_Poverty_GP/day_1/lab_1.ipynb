{
  "cells": [
    {
      "cell_type": "markdown",
      "metadata": {
        "id": "JWVkC9iQp4Lq"
      },
      "source": [
        "# Python for Data Science - Lab 1\n",
        "Work through the following exercises. Get through as many as you can in the time allotted.\n",
        "The box lists additional Python functionality that may help you.\n",
        "\n",
        "| Task | Python function |\n",
        "|----|----|\n",
        "| Import the code library 'random' | import random |\n",
        "| Generate random numbers | random.randint() |\n",
        "| Prompt the user for some text | my_variable = input() |\n"
      ]
    },
    {
      "cell_type": "markdown",
      "metadata": {
        "id": "0o75QyZSp4Lr"
      },
      "source": [
        "#### EXERCISE 1: Too many donuts?\n",
        "*Objective: handle strings and integers, test conditions*\n",
        "\n",
        "Write a program that will:\n",
        "1. Define a variable 'donuts_eaten'.\n",
        "2. Print a string of the form 'Donuts consumed: `<count>`'. However if 10 or more donuts were eaten, then use the word 'many' instead of the actual count."
      ]
    },
    {
      "cell_type": "code",
      "execution_count": 4,
      "metadata": {
        "id": "I-etq-M8p4Lr",
        "outputId": "cf0edb2d-749d-401c-8406-a2f69031c1c2",
        "colab": {
          "base_uri": "https://localhost:8080/"
        }
      },
      "outputs": [
        {
          "output_type": "stream",
          "name": "stdout",
          "text": [
            "Enter donuts u have eaten:2\n",
            "donuts consumed: 2\n"
          ]
        }
      ],
      "source": [
        "# YOUR CODE HERE:\n",
        "\n",
        "donuts_eaten = int(input(\"Enter donuts u have eaten:\"))\n",
        "if donuts_eaten>=10:\n",
        "  print(\"many\")\n",
        "else:\n",
        "  print(\"donuts consumed:\",donuts_eaten)"
      ]
    },
    {
      "cell_type": "markdown",
      "metadata": {
        "id": "qzTVleshp4Lr"
      },
      "source": [
        "#### EXERCISE 2a: Age calculator\n",
        "*Objective: Define variables, do basic math, convert data types*\n",
        "    \n",
        "Write a program that will:\n",
        "1. Define a variable 'birth_year'\n",
        "2. Define a variable 'current_year'\n",
        "3. Calculate the person's age from these two\n",
        "4. Print the output in format (\"You are x years old.\")"
      ]
    },
    {
      "cell_type": "code",
      "execution_count": 11,
      "metadata": {
        "id": "z0h60z4mp4Lr",
        "outputId": "490bed41-8491-4b45-93a4-20eca532c700",
        "colab": {
          "base_uri": "https://localhost:8080/"
        }
      },
      "outputs": [
        {
          "output_type": "stream",
          "name": "stdout",
          "text": [
            "Enter your DOB:2005\n",
            "Enter your Current year:2024\n",
            "You are 19 years old.\n"
          ]
        }
      ],
      "source": [
        "# YOUR CODE HERE:\n",
        "\n",
        "birth_year = int(input(\"Enter your DOB:\"))\n",
        "current_year = int(input(\"Enter your Current year:\"))\n",
        "age=current_year - birth_year\n",
        "print(f\"You are {age} years old.\")"
      ]
    },
    {
      "cell_type": "markdown",
      "metadata": {
        "id": "FgavE5v_p4Ls"
      },
      "source": [
        "#### EXERCISE 2b: Premier League salaries\n",
        "*Objective: Define variables, do math, use conditional logic.*\n",
        "\n",
        "1. Define two variables, player_name (a string), and annual_salary (an integer).\n",
        "2. Assume there are 38 game days. Print a neat string saying your player's name and how much they earn (a) per month; and (b) per game day.\n",
        "3. Now define a Boolean variable championship_winners.\n",
        "4. Test whether championship_winners is True, and if so, print your output again but with a 33% bonus.\n",
        "\n",
        "**BONUS POINTS**: limit the salary to two decimal points when printing it."
      ]
    },
    {
      "cell_type": "code",
      "execution_count": 14,
      "metadata": {
        "id": "TzTk7Ji0p4Ls",
        "outputId": "fbc75315-574a-47c5-f5b7-c0327c38e2e2",
        "colab": {
          "base_uri": "https://localhost:8080/"
        }
      },
      "outputs": [
        {
          "output_type": "stream",
          "name": "stdout",
          "text": [
            "Ronaldo earns 833.3333333333334 per game 21.92982456140351 a day\n",
            "Ronaldo earns 1108.3333333333335 per game 29.16666666666667 a day with bonus\n"
          ]
        }
      ],
      "source": [
        "# YOUR CODE HERE:\n",
        "\n",
        "player_name = 'Ronaldo'\n",
        "annual_salary = 10000\n",
        "days_in_season = 38\n",
        "monthly_salary =annual_salary/12\n",
        "per_game=monthly_salary/days_in_season\n",
        "print(f\"{player_name} earns {monthly_salary} per game {per_game} a day\")\n",
        "championship_winners=True\n",
        "if championship_winners:\n",
        "  bonus=0.33\n",
        "  monthly_salary*=(1+bonus)\n",
        "  per_game*=(1+bonus)\n",
        "print(f\"{player_name} earns {monthly_salary} per game {per_game} a day with bonus\")"
      ]
    },
    {
      "cell_type": "markdown",
      "metadata": {
        "id": "6gjuezDsp4Ls"
      },
      "source": [
        "#### EXERCISE 3: Dog's dinner\n",
        "*Objective: Practice string manipulation*\n",
        "\n",
        "1. Define two strings, a and b.\n",
        "2. Your program should return a single string with a and b separated by a space, except swap the first 2 chars of each string.\n",
        "* eg. 'dog', 'dinner' -> 'dig donner'\n"
      ]
    },
    {
      "cell_type": "code",
      "execution_count": 16,
      "metadata": {
        "id": "1WYechYKp4Ls",
        "outputId": "8b9ec235-292b-4a8d-b0d2-ad977af92667",
        "colab": {
          "base_uri": "https://localhost:8080/"
        }
      },
      "outputs": [
        {
          "output_type": "stream",
          "name": "stdout",
          "text": [
            "dig Donner\n"
          ]
        }
      ],
      "source": [
        "# YOUR CODE HERE:\n",
        "a=\"Dog\"\n",
        "b=\"dinner\"\n",
        "print(b[:2]+a[2:]+\" \"+a[:2]+b[2:])"
      ]
    },
    {
      "cell_type": "markdown",
      "metadata": {
        "id": "P4DcNjFKp4Ls"
      },
      "source": [
        "#### EXERCISE 4: Higher or lower?\n",
        "*Objective: Test conditions, use a counter.*\n",
        "\n",
        "Write a program to:\n",
        "1. Generate a random number (kept secret from the user).\n",
        "2. Prompt the user \"Guess a number\" and record their input.\n",
        "3. Tell them if they were correct, too high, or too low.\n",
        "\n",
        "BONUS POINTS: limit the number of guesses to 5."
      ]
    },
    {
      "cell_type": "code",
      "execution_count": null,
      "metadata": {
        "id": "WUONFptKp4Lt",
        "outputId": "b000cc78-042f-4541-fb03-cff24cbc110e",
        "colab": {
          "base_uri": "https://localhost:8080/"
        }
      },
      "outputs": [
        {
          "metadata": {
            "tags": null
          },
          "name": "stdout",
          "output_type": "stream",
          "text": [
            "get out\n"
          ]
        }
      ],
      "source": [
        "# YOUR CODE HERE:\n",
        "import random\n",
        "random_num=random.randint(1,8)\n",
        "for i in range(1,6):\n",
        "  user=int(input(\"Enter your guess:\"))\n",
        "\n",
        "  if user==random_no:\n",
        "\n",
        "    print(\"u win\")\n",
        "  else:\n",
        "    print(\"get out\")\n"
      ]
    },
    {
      "cell_type": "markdown",
      "metadata": {
        "id": "8ZlrkjxBp4Lt"
      },
      "source": [
        "#### EXERCISE 5: FizzBuzz\n",
        "*Objective: Get a job at Amazon! (they use it in software engineer interviews)*\n",
        "\n",
        "Write a script to:\n",
        "\n",
        "* Print out the numbers from 1 to 20 but replacing numbers with 'Fizz' if divisible by 3, 'Buzz' if divisible by '5', and 'FizzBuzz' if divisible by 3 and 5.\n",
        "\n",
        "Hint: the 'mod' operator, denoted %, is used to check divisibility. Example: 10 % 2 == 0."
      ]
    },
    {
      "cell_type": "code",
      "execution_count": null,
      "metadata": {
        "id": "AJd0ikLJp4Lt"
      },
      "outputs": [],
      "source": [
        "# YOUR CODE HERE:\n"
      ]
    }
  ],
  "metadata": {
    "kernelspec": {
      "display_name": "Python 3",
      "language": "python",
      "name": "python3"
    },
    "language_info": {
      "codemirror_mode": {
        "name": "ipython",
        "version": 3
      },
      "file_extension": ".py",
      "mimetype": "text/x-python",
      "name": "python",
      "nbconvert_exporter": "python",
      "pygments_lexer": "ipython3",
      "version": "3.7.3"
    },
    "colab": {
      "provenance": []
    }
  },
  "nbformat": 4,
  "nbformat_minor": 0
}